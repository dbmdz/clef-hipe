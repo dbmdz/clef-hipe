{
 "cells": [
  {
   "cell_type": "code",
   "execution_count": 11,
   "id": "d471df02",
   "metadata": {},
   "outputs": [],
   "source": [
    "import numpy as np\n",
    "import pandas as pd\n",
    "import seaborn as sns\n",
    "import matplotlib.pyplot as plt"
   ]
  },
  {
   "cell_type": "code",
   "execution_count": 6,
   "id": "b504ea03",
   "metadata": {},
   "outputs": [],
   "source": [
    "ajmc_one_model_preliminary_results = [\n",
    "    [\"bs4-e10-lr5e-05\", 0.8676],\n",
    "    [\"bs4-e10-lr5e-05\", 0.8649],\n",
    "    [\"bs4-e10-lr5e-05\", 0.8609],\n",
    "    [\"bs4-e10-lr5e-05\", 0.8609],\n",
    "    [\"bs4-e10-lr5e-05\", 0.8619],\n",
    "    \n",
    "    [\"bs4-e10-lr4e-05\", 0.8523],\n",
    "    [\"bs4-e10-lr4e-05\", 0.8703],\n",
    "    [\"bs4-e10-lr4e-05\", 0.8607],\n",
    "    [\"bs4-e10-lr4e-05\", 0.8631],\n",
    "    [\"bs4-e10-lr4e-05\", 0.8659],\n",
    "    \n",
    "    [\"bs8-e10-lr5e-05\", 0.8618],\n",
    "    [\"bs8-e10-lr5e-05\", 0.8506],\n",
    "    [\"bs8-e10-lr5e-05\", 0.8673],\n",
    "    [\"bs8-e10-lr5e-05\", 0.8633],\n",
    "    [\"bs8-e10-lr5e-05\", 0.8611],\n",
    "    \n",
    "    [\"bs8-e10-lr4e-05\", 0.8546],\n",
    "    [\"bs8-e10-lr4e-05\", 0.8623],\n",
    "    [\"bs8-e10-lr4e-05\", 0.8641],\n",
    "    [\"bs8-e10-lr4e-05\", 0.8609],\n",
    "    [\"bs8-e10-lr4e-05\", 0.8535],\n",
    "    \n",
    "    [\"bs4-e10-lr3e-05\", 0.8589],\n",
    "    [\"bs4-e10-lr3e-05\", 0.8633],\n",
    "    [\"bs4-e10-lr3e-05\", 0.8551],\n",
    "    [\"bs4-e10-lr3e-05\", 0.8525],\n",
    "    [\"bs4-e10-lr3e-05\", 0.8617],\n",
    "    \n",
    "    [\"bs16-e10-lr5e-05\", 0.8574],\n",
    "    [\"bs16-e10-lr5e-05\", 0.8525],\n",
    "    [\"bs16-e10-lr5e-05\", 0.8539],\n",
    "    [\"bs16-e10-lr5e-05\", 0.8593],\n",
    "    [\"bs16-e10-lr5e-05\", 0.8581],\n",
    "    \n",
    "    [\"bs8-e10-lr3e-05\", 0.8495],\n",
    "    [\"bs8-e10-lr3e-05\", 0.8599],\n",
    "    [\"bs8-e10-lr3e-05\", 0.8512],\n",
    "    [\"bs8-e10-lr3e-05\", 0.8575],\n",
    "    [\"bs8-e10-lr3e-05\", 0.8522],\n",
    "    \n",
    "    [\"bs16-e10-lr4e-05\", 0.8517],\n",
    "    [\"bs16-e10-lr4e-05\", 0.8558],\n",
    "    [\"bs16-e10-lr4e-05\", 0.8504],\n",
    "    [\"bs16-e10-lr4e-05\", 0.8519],\n",
    "    [\"bs16-e10-lr4e-05\", 0.8543],\n",
    "    \n",
    "    [\"bs4-e10-lr2e-05\", 0.8585],\n",
    "    [\"bs4-e10-lr2e-05\", 0.8523],\n",
    "    [\"bs4-e10-lr2e-05\", 0.8575],\n",
    "    [\"bs4-e10-lr2e-05\", 0.8513],\n",
    "    [\"bs4-e10-lr2e-05\", 0.8427],\n",
    "    \n",
    "    [\"bs8-e10-lr2e-05\", 0.8335],\n",
    "    [\"bs8-e10-lr2e-05\", 0.8371],\n",
    "    [\"bs8-e10-lr2e-05\", 0.8498],\n",
    "    [\"bs8-e10-lr2e-05\", 0.8458],\n",
    "    [\"bs8-e10-lr2e-05\", 0.8440],\n",
    "    \n",
    "    [\"bs16-e10-lr3e-05\", 0.8508],\n",
    "    [\"bs16-e10-lr3e-05\", 0.8360],\n",
    "    [\"bs16-e10-lr3e-05\", 0.8423],\n",
    "    [\"bs16-e10-lr3e-05\", 0.8393],\n",
    "    [\"bs16-e10-lr3e-05\", 0.8385],\n",
    "    \n",
    "    [\"bs16-e10-lr2e-05\", 0.8383],\n",
    "    [\"bs16-e10-lr2e-05\", 0.8438],\n",
    "    [\"bs16-e10-lr2e-05\", 0.8336],\n",
    "    [\"bs16-e10-lr2e-05\", 0.8337],\n",
    "    [\"bs16-e10-lr2e-05\", 0.8366],\n",
    "    \n",
    "    [\"bs4-e10-lr1e-05\", 0.8351],\n",
    "    [\"bs4-e10-lr1e-05\", 0.8347],\n",
    "    [\"bs4-e10-lr1e-05\", 0.8313],\n",
    "    [\"bs4-e10-lr1e-05\", 0.8319],\n",
    "    [\"bs4-e10-lr1e-05\", 0.8423],\n",
    "    \n",
    "    [\"bs8-e10-lr1e-05\", 0.8309],\n",
    "    [\"bs8-e10-lr1e-05\", 0.8248],\n",
    "    [\"bs8-e10-lr1e-05\", 0.8233],\n",
    "    [\"bs8-e10-lr1e-05\", 0.8279],\n",
    "    [\"bs8-e10-lr1e-05\", 0.8334],\n",
    "    \n",
    "    [\"bs16-e10-lr1e-05\", 0.8091],\n",
    "    [\"bs16-e10-lr1e-05\", 0.8299],\n",
    "    [\"bs16-e10-lr1e-05\", 0.8162],\n",
    "    [\"bs16-e10-lr1e-05\", 0.8195],\n",
    "    [\"bs16-e10-lr1e-05\", 0.8120],\n",
    "]"
   ]
  },
  {
   "cell_type": "code",
   "execution_count": 9,
   "id": "a3cf5bf2",
   "metadata": {},
   "outputs": [],
   "source": [
    "df_preliminary = pd.DataFrame(ajmc_one_model_preliminary_results,\n",
    "                              columns=[\"Configuration\", \"F1-Score (Development)\"])"
   ]
  },
  {
   "cell_type": "code",
   "execution_count": 11,
   "id": "9593ce7e",
   "metadata": {},
   "outputs": [
    {
     "data": {
      "text/plain": [
       "[(0.8, 0.9)]"
      ]
     },
     "execution_count": 11,
     "metadata": {},
     "output_type": "execute_result"
    },
    {
     "data": {
      "image/png": "[encoded data removed]",
      "text/plain": [
       "<Figure size 432x288 with 1 Axes>"
      ]
     },
     "metadata": {
      "needs_background": "light"
     },
     "output_type": "display_data"
    }
   ],
   "source": [
    "preliminary_plot = sns.barplot(y=\"Configuration\", x=\"F1-Score (Development)\", data=df_preliminary)\n",
    "preliminary_plot.set_title('Preliminary Results for AJMC One-Model (Development)')\n",
    "preliminary_plot.set(ylabel='')\n",
    "preliminary_plot.set(xlim=(0.8, 0.9))"
   ]
  },
  {
   "cell_type": "code",
   "execution_count": 15,
   "id": "f9dede9e",
   "metadata": {},
   "outputs": [
    {
     "name": "stdout",
     "output_type": "stream",
     "text": [
      "[\"bs8-e10-lr3e-05\", 0.8688],\n",
      "[\"bs8-e10-lr3e-05\", 0.8663],\n",
      "[\"bs8-e10-lr3e-05\", 0.8702],\n",
      "[\"bs8-e10-lr3e-05\", 0.8661],\n",
      "[\"bs8-e10-lr3e-05\", 0.8631],\n",
      "[\"bs4-e10-lr3e-05\", 0.8595],\n",
      "[\"bs4-e10-lr3e-05\", 0.8612],\n",
      "[\"bs4-e10-lr3e-05\", 0.8599],\n",
      "[\"bs4-e10-lr3e-05\", 0.871],\n",
      "[\"bs4-e10-lr3e-05\", 0.8751],\n",
      "[\"bs8-e10-lr4e-05\", 0.8727],\n",
      "[\"bs8-e10-lr4e-05\", 0.8699],\n",
      "[\"bs8-e10-lr4e-05\", 0.861],\n",
      "[\"bs8-e10-lr4e-05\", 0.8585],\n",
      "[\"bs8-e10-lr4e-05\", 0.8643],\n",
      "[\"bs8-e10-lr5e-05\", 0.8712],\n",
      "[\"bs8-e10-lr5e-05\", 0.8605],\n",
      "[\"bs8-e10-lr5e-05\", 0.8746],\n",
      "[\"bs8-e10-lr5e-05\", 0.8526],\n",
      "[\"bs8-e10-lr5e-05\", 0.8665],\n",
      "[\"bs4-e10-lr4e-05\", 0.8401],\n",
      "[\"bs4-e10-lr4e-05\", 0.8653],\n",
      "[\"bs4-e10-lr4e-05\", 0.8714],\n",
      "[\"bs4-e10-lr4e-05\", 0.8677],\n",
      "[\"bs4-e10-lr4e-05\", 0.8305],\n",
      "[\"bs4-e10-lr5e-05\", 0.873],\n",
      "[\"bs4-e10-lr5e-05\", 0.8535],\n",
      "[\"bs4-e10-lr5e-05\", 0.8565],\n",
      "[\"bs4-e10-lr5e-05\", 0.8005],\n",
      "[\"bs4-e10-lr5e-05\", 0.8785],\n"
     ]
    }
   ],
   "source": [
    "#results = {\n",
    "#\"bs4-e10-lr5e-05\" : [0.8721, 0.8764, 0.8604, 0.8672, 0.8682],\n",
    "#\"bs8-e10-lr5e-05\" : [0.8662, 0.8650, 0.8736, 0.8604, 0.8710],\n",
    "#\"bs4-e10-lr4e-05\" : [0.8702, 0.8695, 0.8611, 0.8699, 0.8616],\n",
    "#\"bs8-e10-lr4e-05\" : [0.8695, 0.8555, 0.8637, 0.8717, 0.8678],\n",
    "#\"bs4-e10-lr3e-05\" : [0.8701, 0.8609, 0.8625, 0.8638, 0.8702],\n",
    "#\"bs8-e10-lr3e-05\" : [0.8653, 0.8599, 0.8539, 0.8608, 0.8584],\n",
    "#}\n",
    "\n",
    "results = {\n",
    "\"bs8-e10-lr3e-05\" : [0.8688, 0.8663, 0.8702, 0.8661, 0.8631],\n",
    "\"bs4-e10-lr3e-05\" : [0.8595, 0.8612, 0.8599, 0.8710, 0.8751],\n",
    "\"bs8-e10-lr4e-05\" : [0.8727, 0.8699, 0.8610, 0.8585, 0.8643],\n",
    "\"bs8-e10-lr5e-05\" : [0.8712, 0.8605, 0.8746, 0.8526, 0.8665],\n",
    "\"bs4-e10-lr4e-05\" : [0.8401, 0.8653, 0.8714, 0.8677, 0.8305],\n",
    "\"bs4-e10-lr5e-05\" : [0.8730, 0.8535, 0.8565, 0.8005, 0.8785],\n",
    "}\n",
    "\n",
    "\n",
    "for configuration, values in results.items():\n",
    "    for value in values:\n",
    "        print(f'[\"{configuration}\", {value}],')"
   ]
  },
  {
   "cell_type": "code",
   "execution_count": 9,
   "id": "ac89205e",
   "metadata": {},
   "outputs": [],
   "source": [
    "ajmc_one_model_fraktur_fix_results = [\n",
    "    [\"bs4-e10-lr5e-05\", 0.8721],\n",
    "    [\"bs4-e10-lr5e-05\", 0.8764],\n",
    "    [\"bs4-e10-lr5e-05\", 0.8604],\n",
    "    [\"bs4-e10-lr5e-05\", 0.8672],\n",
    "    [\"bs4-e10-lr5e-05\", 0.8682],\n",
    "    [\"bs8-e10-lr5e-05\", 0.8662],\n",
    "    [\"bs8-e10-lr5e-05\", 0.865],\n",
    "    [\"bs8-e10-lr5e-05\", 0.8736],\n",
    "    [\"bs8-e10-lr5e-05\", 0.8604],\n",
    "    [\"bs8-e10-lr5e-05\", 0.871],\n",
    "    [\"bs4-e10-lr4e-05\", 0.8702],\n",
    "    [\"bs4-e10-lr4e-05\", 0.8695],\n",
    "    [\"bs4-e10-lr4e-05\", 0.8611],\n",
    "    [\"bs4-e10-lr4e-05\", 0.8699],\n",
    "    [\"bs4-e10-lr4e-05\", 0.8616],\n",
    "    [\"bs8-e10-lr4e-05\", 0.8695],\n",
    "    [\"bs8-e10-lr4e-05\", 0.8555],\n",
    "    [\"bs8-e10-lr4e-05\", 0.8637],\n",
    "    [\"bs8-e10-lr4e-05\", 0.8717],\n",
    "    [\"bs8-e10-lr4e-05\", 0.8678],\n",
    "    [\"bs4-e10-lr3e-05\", 0.8701],\n",
    "    [\"bs4-e10-lr3e-05\", 0.8609],\n",
    "    [\"bs4-e10-lr3e-05\", 0.8625],\n",
    "    [\"bs4-e10-lr3e-05\", 0.8638],\n",
    "    [\"bs4-e10-lr3e-05\", 0.8702],\n",
    "    [\"bs8-e10-lr3e-05\", 0.8653],\n",
    "    [\"bs8-e10-lr3e-05\", 0.8599],\n",
    "    [\"bs8-e10-lr3e-05\", 0.8539],\n",
    "    [\"bs8-e10-lr3e-05\", 0.8608],\n",
    "    [\"bs8-e10-lr3e-05\", 0.8584]\n",
    "]"
   ]
  },
  {
   "cell_type": "code",
   "execution_count": 12,
   "id": "93980710",
   "metadata": {},
   "outputs": [],
   "source": [
    "df_fraktur_fix = pd.DataFrame(ajmc_one_model_fraktur_fix_results,\n",
    "                              columns=[\"Configuration\", \"F1-Score (Development)\"])"
   ]
  },
  {
   "cell_type": "code",
   "execution_count": 14,
   "id": "944167ea",
   "metadata": {},
   "outputs": [
    {
     "data": {
      "text/plain": [
       "[(0.8, 0.9)]"
      ]
     },
     "execution_count": 14,
     "metadata": {},
     "output_type": "execute_result"
    },
    {
     "data": {
      "image/png": "[encoded data removed]",
      "text/plain": [
       "<Figure size 432x288 with 1 Axes>"
      ]
     },
     "metadata": {
      "needs_background": "light"
     },
     "output_type": "display_data"
    }
   ],
   "source": [
    "fraktur_fix_plot = sns.barplot(y=\"Configuration\", x=\"F1-Score (Development)\", data=df_fraktur_fix)\n",
    "fraktur_fix_plot.set_title('Preliminary Results for AJMC One-Model with Fraktur Fix (Development)')\n",
    "fraktur_fix_plot.set(ylabel='')\n",
    "fraktur_fix_plot.set(xlim=(0.8, 0.9))"
   ]
  },
  {
   "cell_type": "code",
   "execution_count": 16,
   "id": "c25c334f",
   "metadata": {},
   "outputs": [],
   "source": [
    "ajmc_one_model_64k_fraktur_fix_results = [\n",
    "    [\"bs8-e10-lr3e-05\", 0.8688],\n",
    "    [\"bs8-e10-lr3e-05\", 0.8663],\n",
    "    [\"bs8-e10-lr3e-05\", 0.8702],\n",
    "    [\"bs8-e10-lr3e-05\", 0.8661],\n",
    "    [\"bs8-e10-lr3e-05\", 0.8631],\n",
    "    [\"bs4-e10-lr3e-05\", 0.8595],\n",
    "    [\"bs4-e10-lr3e-05\", 0.8612],\n",
    "    [\"bs4-e10-lr3e-05\", 0.8599],\n",
    "    [\"bs4-e10-lr3e-05\", 0.871],\n",
    "    [\"bs4-e10-lr3e-05\", 0.8751],\n",
    "    [\"bs8-e10-lr4e-05\", 0.8727],\n",
    "    [\"bs8-e10-lr4e-05\", 0.8699],\n",
    "    [\"bs8-e10-lr4e-05\", 0.861],\n",
    "    [\"bs8-e10-lr4e-05\", 0.8585],\n",
    "    [\"bs8-e10-lr4e-05\", 0.8643],\n",
    "    [\"bs8-e10-lr5e-05\", 0.8712],\n",
    "    [\"bs8-e10-lr5e-05\", 0.8605],\n",
    "    [\"bs8-e10-lr5e-05\", 0.8746],\n",
    "    [\"bs8-e10-lr5e-05\", 0.8526],\n",
    "    [\"bs8-e10-lr5e-05\", 0.8665],\n",
    "    [\"bs4-e10-lr4e-05\", 0.8401],\n",
    "    [\"bs4-e10-lr4e-05\", 0.8653],\n",
    "    [\"bs4-e10-lr4e-05\", 0.8714],\n",
    "    [\"bs4-e10-lr4e-05\", 0.8677],\n",
    "    [\"bs4-e10-lr4e-05\", 0.8305],\n",
    "    [\"bs4-e10-lr5e-05\", 0.873],\n",
    "    [\"bs4-e10-lr5e-05\", 0.8535],\n",
    "    [\"bs4-e10-lr5e-05\", 0.8565],\n",
    "    [\"bs4-e10-lr5e-05\", 0.8005],\n",
    "    [\"bs4-e10-lr5e-05\", 0.8785],   \n",
    "]"
   ]
  },
  {
   "cell_type": "code",
   "execution_count": 17,
   "id": "5433eda2",
   "metadata": {},
   "outputs": [],
   "source": [
    "df_64k_fraktur_fix = pd.DataFrame(ajmc_one_model_64k_fraktur_fix_results,\n",
    "                                  columns=[\"Configuration\", \"F1-Score (Development)\"])"
   ]
  },
  {
   "cell_type": "code",
   "execution_count": 18,
   "id": "a87f42f4",
   "metadata": {},
   "outputs": [
    {
     "data": {
      "text/plain": [
       "[(0.8, 0.9)]"
      ]
     },
     "execution_count": 18,
     "metadata": {},
     "output_type": "execute_result"
    },
    {
     "data": {
      "image/png": "[encoded data removed]",
      "text/plain": [
       "<Figure size 432x288 with 1 Axes>"
      ]
     },
     "metadata": {
      "needs_background": "light"
     },
     "output_type": "display_data"
    }
   ],
   "source": [
    "fraktur_64k_fix_plot = sns.barplot(y=\"Configuration\", x=\"F1-Score (Development)\", data=df_64k_fraktur_fix)\n",
    "fraktur_64k_fix_plot.set_title('Preliminary Results for AJMC One-Model (64k) with Fraktur Fix (Development)')\n",
    "fraktur_64k_fix_plot.set(ylabel='')\n",
    "fraktur_64k_fix_plot.set(xlim=(0.8, 0.9))"
   ]
  }
 ],
 "metadata": {
  "kernelspec": {
   "display_name": "Python 3 (ipykernel)",
   "language": "python",
   "name": "python3"
  },
  "language_info": {
   "codemirror_mode": {
    "name": "ipython",
    "version": 3
   },
   "file_extension": ".py",
   "mimetype": "text/x-python",
   "name": "python",
   "nbconvert_exporter": "python",
   "pygments_lexer": "ipython3",
   "version": "3.9.7"
  }
 },
 "nbformat": 4,
 "nbformat_minor": 5
}
