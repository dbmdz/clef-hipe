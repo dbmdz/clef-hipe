{
 "cells": [
  {
   "cell_type": "code",
   "execution_count": 1,
   "id": "d471df02",
   "metadata": {},
   "outputs": [],
   "source": [
    "import numpy as np\n",
    "import pandas as pd\n",
    "import seaborn as sns\n",
    "import matplotlib.pyplot as plt"
   ]
  },
  {
   "cell_type": "code",
   "execution_count": 6,
   "id": "b504ea03",
   "metadata": {},
   "outputs": [],
   "source": [
    "ajmc_one_model_preliminary_results = [\n",
    "    [\"bs4-e10-lr5e-05\", 0.8676],\n",
    "    [\"bs4-e10-lr5e-05\", 0.8649],\n",
    "    [\"bs4-e10-lr5e-05\", 0.8609],\n",
    "    [\"bs4-e10-lr5e-05\", 0.8609],\n",
    "    [\"bs4-e10-lr5e-05\", 0.8619],\n",
    "    \n",
    "    [\"bs4-e10-lr4e-05\", 0.8523],\n",
    "    [\"bs4-e10-lr4e-05\", 0.8703],\n",
    "    [\"bs4-e10-lr4e-05\", 0.8607],\n",
    "    [\"bs4-e10-lr4e-05\", 0.8631],\n",
    "    [\"bs4-e10-lr4e-05\", 0.8659],\n",
    "    \n",
    "    [\"bs8-e10-lr5e-05\", 0.8618],\n",
    "    [\"bs8-e10-lr5e-05\", 0.8506],\n",
    "    [\"bs8-e10-lr5e-05\", 0.8673],\n",
    "    [\"bs8-e10-lr5e-05\", 0.8633],\n",
    "    [\"bs8-e10-lr5e-05\", 0.8611],\n",
    "    \n",
    "    [\"bs8-e10-lr4e-05\", 0.8546],\n",
    "    [\"bs8-e10-lr4e-05\", 0.8623],\n",
    "    [\"bs8-e10-lr4e-05\", 0.8641],\n",
    "    [\"bs8-e10-lr4e-05\", 0.8609],\n",
    "    [\"bs8-e10-lr4e-05\", 0.8535],\n",
    "    \n",
    "    [\"bs4-e10-lr3e-05\", 0.8589],\n",
    "    [\"bs4-e10-lr3e-05\", 0.8633],\n",
    "    [\"bs4-e10-lr3e-05\", 0.8551],\n",
    "    [\"bs4-e10-lr3e-05\", 0.8525],\n",
    "    [\"bs4-e10-lr3e-05\", 0.8617],\n",
    "    \n",
    "    [\"bs16-e10-lr5e-05\", 0.8574],\n",
    "    [\"bs16-e10-lr5e-05\", 0.8525],\n",
    "    [\"bs16-e10-lr5e-05\", 0.8539],\n",
    "    [\"bs16-e10-lr5e-05\", 0.8593],\n",
    "    [\"bs16-e10-lr5e-05\", 0.8581],\n",
    "    \n",
    "    [\"bs8-e10-lr3e-05\", 0.8495],\n",
    "    [\"bs8-e10-lr3e-05\", 0.8599],\n",
    "    [\"bs8-e10-lr3e-05\", 0.8512],\n",
    "    [\"bs8-e10-lr3e-05\", 0.8575],\n",
    "    [\"bs8-e10-lr3e-05\", 0.8522],\n",
    "    \n",
    "    [\"bs16-e10-lr4e-05\", 0.8517],\n",
    "    [\"bs16-e10-lr4e-05\", 0.8558],\n",
    "    [\"bs16-e10-lr4e-05\", 0.8504],\n",
    "    [\"bs16-e10-lr4e-05\", 0.8519],\n",
    "    [\"bs16-e10-lr4e-05\", 0.8543],\n",
    "    \n",
    "    [\"bs4-e10-lr2e-05\", 0.8585],\n",
    "    [\"bs4-e10-lr2e-05\", 0.8523],\n",
    "    [\"bs4-e10-lr2e-05\", 0.8575],\n",
    "    [\"bs4-e10-lr2e-05\", 0.8513],\n",
    "    [\"bs4-e10-lr2e-05\", 0.8427],\n",
    "    \n",
    "    [\"bs8-e10-lr2e-05\", 0.8335],\n",
    "    [\"bs8-e10-lr2e-05\", 0.8371],\n",
    "    [\"bs8-e10-lr2e-05\", 0.8498],\n",
    "    [\"bs8-e10-lr2e-05\", 0.8458],\n",
    "    [\"bs8-e10-lr2e-05\", 0.8440],\n",
    "    \n",
    "    [\"bs16-e10-lr3e-05\", 0.8508],\n",
    "    [\"bs16-e10-lr3e-05\", 0.8360],\n",
    "    [\"bs16-e10-lr3e-05\", 0.8423],\n",
    "    [\"bs16-e10-lr3e-05\", 0.8393],\n",
    "    [\"bs16-e10-lr3e-05\", 0.8385],\n",
    "    \n",
    "    [\"bs16-e10-lr2e-05\", 0.8383],\n",
    "    [\"bs16-e10-lr2e-05\", 0.8438],\n",
    "    [\"bs16-e10-lr2e-05\", 0.8336],\n",
    "    [\"bs16-e10-lr2e-05\", 0.8337],\n",
    "    [\"bs16-e10-lr2e-05\", 0.8366],\n",
    "    \n",
    "    [\"bs4-e10-lr1e-05\", 0.8351],\n",
    "    [\"bs4-e10-lr1e-05\", 0.8347],\n",
    "    [\"bs4-e10-lr1e-05\", 0.8313],\n",
    "    [\"bs4-e10-lr1e-05\", 0.8319],\n",
    "    [\"bs4-e10-lr1e-05\", 0.8423],\n",
    "    \n",
    "    [\"bs8-e10-lr1e-05\", 0.8309],\n",
    "    [\"bs8-e10-lr1e-05\", 0.8248],\n",
    "    [\"bs8-e10-lr1e-05\", 0.8233],\n",
    "    [\"bs8-e10-lr1e-05\", 0.8279],\n",
    "    [\"bs8-e10-lr1e-05\", 0.8334],\n",
    "    \n",
    "    [\"bs16-e10-lr1e-05\", 0.8091],\n",
    "    [\"bs16-e10-lr1e-05\", 0.8299],\n",
    "    [\"bs16-e10-lr1e-05\", 0.8162],\n",
    "    [\"bs16-e10-lr1e-05\", 0.8195],\n",
    "    [\"bs16-e10-lr1e-05\", 0.8120],\n",
    "]"
   ]
  },
  {
   "cell_type": "code",
   "execution_count": 9,
   "id": "a3cf5bf2",
   "metadata": {},
   "outputs": [],
   "source": [
    "df_preliminary = pd.DataFrame(ajmc_one_model_preliminary_results,\n",
    "                              columns=[\"Configuration\", \"F1-Score (Development)\"])"
   ]
  },
  {
   "cell_type": "code",
   "execution_count": 11,
   "id": "9593ce7e",
   "metadata": {},
   "outputs": [
    {
     "data": {
      "text/plain": [
       "[(0.8, 0.9)]"
      ]
     },
     "execution_count": 11,
     "metadata": {},
     "output_type": "execute_result"
    },
    {
     "data": {
      "image/png": "[encoded data removed]",
      "text/plain": [
       "<Figure size 432x288 with 1 Axes>"
      ]
     },
     "metadata": {
      "needs_background": "light"
     },
     "output_type": "display_data"
    }
   ],
   "source": [
    "preliminary_plot = sns.barplot(y=\"Configuration\", x=\"F1-Score (Development)\", data=df_preliminary)\n",
    "preliminary_plot.set_title('Preliminary Results for AJMC One-Model (Development)')\n",
    "preliminary_plot.set(ylabel='')\n",
    "preliminary_plot.set(xlim=(0.8, 0.9))"
   ]
  }
 ],
 "metadata": {
  "kernelspec": {
   "display_name": "Python 3 (ipykernel)",
   "language": "python",
   "name": "python3"
  },
  "language_info": {
   "codemirror_mode": {
    "name": "ipython",
    "version": 3
   },
   "file_extension": ".py",
   "mimetype": "text/x-python",
   "name": "python",
   "nbconvert_exporter": "python",
   "pygments_lexer": "ipython3",
   "version": "3.9.7"
  }
 },
 "nbformat": 4,
 "nbformat_minor": 5
}
